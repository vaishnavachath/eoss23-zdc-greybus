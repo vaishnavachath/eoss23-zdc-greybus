{
 "cells": [
  {
   "cell_type": "code",
   "execution_count": null,
   "id": "77ce1937",
   "metadata": {
    "scrolled": false
   },
   "outputs": [],
   "source": [
    "import argparse\n",
    "import collections\n",
    "import struct\n",
    "import sys\n",
    "import serial\n",
    "import socket\n",
    "from time import sleep"
   ]
  },
  {
   "cell_type": "code",
   "execution_count": null,
   "id": "a1503d5c",
   "metadata": {
    "scrolled": false
   },
   "outputs": [],
   "source": [
    "class GBOperation(object):\n",
    "    OPERATION_HEADER_FMT        = '<HHBBBB'\n",
    "\n",
    "    def __init__(self, _type, _cport, _id = 0, local = 0):\n",
    "        self.type = _type\n",
    "        self.id = _id\n",
    "        self.result = 0\n",
    "        self.pad = [_cport, local]\n",
    "        self.size = 8\n",
    "        self.operation = bytearray(2048)\n",
    "    \n",
    "    def payload(self, payload):        \n",
    "        self.operation[self.size:] = bytearray(payload)\n",
    "        self.size += len(payload)\n",
    "\n",
    "    def generate(self, pad = 0):\n",
    "        if self.size % 4 != 0 and pad:\n",
    "            self.operation[self.size:] = [0]*(4 - (self.size % 4))\n",
    "            self.size += (4 - (self.size % 4))\n",
    "        struct.pack_into(GBOperation.OPERATION_HEADER_FMT, self.operation, 0,\n",
    "                 self.size, self.id, self.type, self.result,\n",
    "                 self.pad[0], self.pad[1])\n",
    "        return self.operation[:self.size]\n",
    "    \n"
   ]
  },
  {
   "cell_type": "code",
   "execution_count": null,
   "id": "dd5b3617",
   "metadata": {
    "scrolled": false
   },
   "outputs": [],
   "source": [
    "class GBControlOp(object):\n",
    "    GB_CONTROL_TYPE_PROTOCOL_VERSION = 0x01\n",
    "    GB_CONTROL_TYPE_GET_MANIFEST_SIZE = 0x03\n",
    "    GB_CONTROL_TYPE_GET_MANIFEST = 0x04\n",
    "    GB_CONTROL_TYPE_GET_GLOBAL_SCRATCH = 0x32\n",
    "    def __init__(self, cport = 0):\n",
    "        self.cport = cport\n",
    "\n",
    "    def get_protocol_version(self):\n",
    "        return GBOperation(GBControlOp.GB_CONTROL_TYPE_PROTOCOL_VERSION, self.cport, 1).generate()\n",
    "    def get_manifest_size(self):\n",
    "        return GBOperation(GBControlOp.GB_CONTROL_TYPE_GET_MANIFEST_SIZE, self.cport, 1).generate()\n",
    "    def get_manifest(self):\n",
    "        return GBOperation(GBControlOp.GB_CONTROL_TYPE_GET_MANIFEST, self.cport, 1).generate()\n",
    "    def get_global_scratch(self):\n",
    "        return GBOperation(GBControlOp.GB_CONTROL_TYPE_GET_GLOBAL_SCRATCH, self.cport, 1).generate()"
   ]
  },
  {
   "cell_type": "code",
   "execution_count": null,
   "id": "7e74a4e1",
   "metadata": {
    "scrolled": false
   },
   "outputs": [],
   "source": [
    "class GBI2COp(object):\n",
    "    GB_I2C_PROTOCOL_VERSION = 0x01\n",
    "    GB_I2C_PROTOCOL_FUNCTIONALITY = 0x02\n",
    "    GB_I2C_PROTOCOL_TRANSFER = 0x05\n",
    "    \n",
    "    def __init__(self, cport = 2):\n",
    "        self.cport = cport\n",
    "\n",
    "    def get_protocol_version(self):\n",
    "        return GBOperation(GBI2COp.GB_I2C_PROTOCOL_VERSION, self.cport, 1).generate()\n",
    "    def get_functionality(self):\n",
    "        return GBOperation(GBI2COp.GB_I2C_PROTOCOL_FUNCTIONALITY, self.cport, 1).generate()\n",
    "    def readWord(self, address, commandCode):\n",
    "        i2crwop = GBOperation(GBI2COp.GB_I2C_PROTOCOL_TRANSFER, self.cport, 1)\n",
    "        i2crwop.payload([2, 0]) #number of transactions\n",
    "        i2crwop.payload([address, 0, 0, 0, 1, 0])\n",
    "        i2crwop.payload([address, 0, 1, 0, 2, 0])\n",
    "        i2crwop.payload([commandCode])\n",
    "        return i2crwop.generate()\n",
    "    def readByte(self, address, commandCode):\n",
    "        i2crbop = GBOperation(GBI2COp.GB_I2C_PROTOCOL_TRANSFER, self.cport, 1)\n",
    "        i2crbop.payload([2, 0]) #number of transactions\n",
    "        i2crbop.payload([address, 0, 0, 0, 1, 0])\n",
    "        i2crbop.payload([address, 0, 1, 0, 1, 0])\n",
    "        i2crbop.payload([commandCode])\n",
    "        return i2crbop.generate()\n",
    "    def readBlock(self, address, commandCode, nbytes):\n",
    "        i2crbop = GBOperation(GBI2COp.GB_I2C_PROTOCOL_TRANSFER, self.cport, 1)\n",
    "        i2crbop.payload([2, 0]) #number of transactions\n",
    "        i2crbop.payload([address, 0, 0, 0, 1, 0])\n",
    "        i2crbop.payload([address, 0, 1, 0, nbytes, 0])\n",
    "        i2crbop.payload([commandCode])\n",
    "        return i2crbop.generate()\n",
    "    def writeCommand(self, address, commandCode):\n",
    "        i2cwcop = GBOperation(GBI2COp.GB_I2C_PROTOCOL_TRANSFER, self.cport, 1)\n",
    "        i2cwcop.payload([1, 0]) #number of transactions\n",
    "        i2cwcop.payload([address, 0, 0, 0, 1, 0])\n",
    "        i2cwcop.payload([commandCode])\n",
    "        return i2cwcop.generate()\n",
    "    def writeByte(self, address, commandCode, wbyte, split = 0):\n",
    "        i2cwbop = GBOperation(GBI2COp.GB_I2C_PROTOCOL_TRANSFER, self.cport, 1)\n",
    "        if split:\n",
    "            i2cwbop.payload([2, 0]) #number of transactions\n",
    "            i2cwbop.payload([address, 0, 0, 0, 1, 0])\n",
    "            i2cwbop.payload([address, 0, 0, 0, 1, 0])\n",
    "            i2cwbop.payload([commandCode])\n",
    "            i2cwbop.payload([wbyte])\n",
    "        else:\n",
    "            i2cwbop.payload([1, 0]) #number of transactions\n",
    "            i2cwbop.payload([address, 0, 0, 0, 2, 0])\n",
    "            i2cwbop.payload([commandCode, wbyte])\n",
    "        return i2cwbop.generate()\n",
    "    def writeWord(self, address, commandCode, wword, split = 0):\n",
    "        i2cwwop = GBOperation(GBI2COp.GB_I2C_PROTOCOL_TRANSFER, self.cport, 1)\n",
    "        if split:\n",
    "            i2cwwop.payload([2, 0]) #number of transactions\n",
    "            i2cwwop.payload([address, 0, 0, 0, 1, 0])\n",
    "            i2cwwop.payload([address, 0, 0, 0, 2, 0])\n",
    "            i2cwwop.payload([commandCode])\n",
    "            i2cwwop.payload(list(wword.to_bytes(2, 'little')))\n",
    "        else:\n",
    "            i2cwwop.payload([1, 0]) #number of transactions\n",
    "            i2cwwop.payload([address, 0, 0, 0, 3, 0])\n",
    "            i2cwwop.payload([commandCode])\n",
    "            i2cwwop.payload(list(wword.to_bytes(2, 'little')))\n",
    "        return i2cwwop.generate()\n",
    "    def writeBlock(self, address, commandCode, block, split = 0):\n",
    "        i2cwwop = GBOperation(GBI2COp.GB_I2C_PROTOCOL_TRANSFER, self.cport, 1)\n",
    "        if split:\n",
    "            i2cwwop.payload([2, 0]) #number of transactions\n",
    "            i2cwwop.payload([address, 0, 0, 0, 1, 0])\n",
    "            i2cwwop.payload([address, 0, 0, 0, len(block), 0])\n",
    "            i2cwwop.payload([commandCode])\n",
    "            i2cwwop.payload(block)\n",
    "        else:\n",
    "            i2cwwop.payload([1, 0]) #number of transactions\n",
    "            i2cwwop.payload([address, 0, 0, 0, 1 + len(block), 0])\n",
    "            i2cwwop.payload([commandCode])\n",
    "            i2cwwop.payload(block)            \n",
    "        return i2cwwop.generate()"
   ]
  },
  {
   "cell_type": "code",
   "execution_count": null,
   "id": "ec1898a8",
   "metadata": {
    "scrolled": false
   },
   "outputs": [],
   "source": [
    "class GBLocalPlaybackOp(object):\n",
    "    GB_LOCALPLAYBACK = 0xB0\n",
    "    \n",
    "    def __init__(self, cport = 0):\n",
    "        self.cport = cport\n",
    "        self.operation = GBOperation(GBLocalPlaybackOp.GB_LOCALPLAYBACK, self.cport, 0, 0xA0)\n",
    "        self.opcount = 0\n",
    "        self.payload = []\n",
    "\n",
    "    def addop(self, operation):        \n",
    "        self.payload.append(operation)\n",
    "        self.opcount += 1\n",
    "    \n",
    "    def generate_lp(self):\n",
    "        self.operation.payload([self.opcount, 0])\n",
    "        for i in range(self.opcount):\n",
    "            self.operation.payload(self.payload[i])\n",
    "        return self.operation.generate()        "
   ]
  },
  {
   "cell_type": "code",
   "execution_count": null,
   "id": "8754ce62",
   "metadata": {
    "scrolled": false
   },
   "outputs": [],
   "source": [
    "class GBLocalIFOp(object):\n",
    "    GB_LOCALIFOP = 0xC0\n",
    "    \n",
    "    def __init__(self, cond = 0, cport = 0):\n",
    "        self.cport = cport\n",
    "        self.operation = GBOperation(GBLocalIFOp.GB_LOCALIFOP, self.cport, 0, 0xA0)\n",
    "        self.opcount = 0\n",
    "        self.cond = cond\n",
    "        self.payload = []\n",
    "\n",
    "    def addop(self, operation):        \n",
    "        self.payload.append(operation)\n",
    "        self.opcount += 1\n",
    "    \n",
    "    def generate_lp(self):\n",
    "        #FIXME: do this only once \n",
    "        self.operation.payload([self.cond, self.opcount])\n",
    "        for i in range(self.opcount):\n",
    "            self.operation.payload(self.payload[i])\n",
    "        return self.operation.generate()"
   ]
  },
  {
   "cell_type": "code",
   "execution_count": null,
   "id": "6dd4077b",
   "metadata": {
    "scrolled": false
   },
   "outputs": [],
   "source": [
    "class GBLocalWhileOp(object):\n",
    "    GB_LOCALWHILEOP = 0xD0\n",
    "    \n",
    "    def __init__(self, cond = 0, cport = 0):\n",
    "        self.cport = 0\n",
    "        self.operation = GBOperation(GBLocalWhileOp.GB_LOCALWHILEOP, self.cport, 0, 0xA0)\n",
    "        self.opcount = 0\n",
    "        self.cond = cond\n",
    "        self.payload = []\n",
    "\n",
    "    def addop(self, operation):        \n",
    "        self.payload.append(operation)\n",
    "        self.opcount += 1\n",
    "    \n",
    "    def generate_lp(self):\n",
    "        #FIXME: do this only once \n",
    "        self.operation.payload([self.cond, self.opcount])\n",
    "        for i in range(self.opcount):\n",
    "            self.operation.payload(self.payload[i])\n",
    "        return self.operation.generate() "
   ]
  },
  {
   "cell_type": "code",
   "execution_count": null,
   "id": "573b879a",
   "metadata": {
    "scrolled": false
   },
   "outputs": [],
   "source": [
    "class GBLocalScratchWriteOp(object):\n",
    "    GB_SCRATCHWRITE = 0xB1\n",
    "    \n",
    "    def __init__(self, offset = 0, value = 0, cport = 0):\n",
    "        self.cport = cport\n",
    "        self.operation = GBOperation(GBLocalScratchWriteOp.GB_SCRATCHWRITE, self.cport, 0, 0xA0)\n",
    "        self.opcount = 0\n",
    "        self.offset = offset\n",
    "        self.value =  value\n",
    "        self.payload = []\n",
    "\n",
    "    def addop(self, operation):        \n",
    "        self.payload.append(operation)\n",
    "        self.opcount += 1\n",
    "    \n",
    "    def generate(self):\n",
    "        self.operation.payload([self.offset, self.opcount] + list(self.value.to_bytes(4, 'little')))\n",
    "        for i in range(self.opcount):\n",
    "            self.operation.payload(self.payload[i])\n",
    "        return self.operation.generate()"
   ]
  },
  {
   "cell_type": "code",
   "execution_count": null,
   "id": "bc0c72cd",
   "metadata": {
    "scrolled": false
   },
   "outputs": [],
   "source": [
    "class GBLocalMathOp(object):\n",
    "    GB_MATHOP = 0xB2\n",
    "    GB_MATH_ADD = 1\n",
    "    GB_MATH_SUB = 2\n",
    "    GB_MATH_MUL = 3\n",
    "    GB_MATH_DIV = 4\n",
    "    GB_MATH_MOD = 5\n",
    "    GB_MATH_INC = 6\n",
    "    GB_MATH_DEC = 7\n",
    "    GB_MATH_BWAND = 8\n",
    "    GB_MATH_BWOR = 9\n",
    "    GB_MATH_BWXOR = 10\n",
    "    GB_MATH_BWLSH = 11\n",
    "    GB_MATH_BWRSH = 12\n",
    "    GB_MATH_BWNOT = 13\n",
    "    GB_MATH_COND_EQ = 14\n",
    "    GB_MATH_COND_NE = 15\n",
    "    GB_MATH_COND_GT = 16\n",
    "    GB_MATH_COND_LT = 17\n",
    "    GB_MATH_COND_GTEQ = 18\n",
    "    GB_MATH_COND_LTEQ = 19\n",
    "\n",
    "    def __init__(self, dest = 0, src1 = 0, src2 = 0, operand = \"+\", cport = 0):\n",
    "\n",
    "        self.cport = cport\n",
    "        self.operation = GBOperation(GBLocalMathOp.GB_MATHOP, self.cport, 0, 0xA0)\n",
    "        self.dest = dest\n",
    "        self.src1 = src1\n",
    "        self.src2 = src2\n",
    "        self.operand = 0\n",
    "        if operand == \"+\":\n",
    "            self.operand = GBLocalMathOp.GB_MATH_ADD\n",
    "        elif operand == \"-\":\n",
    "            self.operand = GBLocalMathOp.GB_MATH_SUB\n",
    "        elif operand == \"*\":\n",
    "            self.operand = GBLocalMathOp.GB_MATH_MUL\n",
    "        elif operand == \"/\":\n",
    "            self.operand = GBLocalMathOp.GB_MATH_DIV\n",
    "        elif operand == \"%\":\n",
    "            self.operand = GBLocalMathOp.GB_MATH_MOD\n",
    "        elif operand == \"++\":\n",
    "            self.operand = GBLocalMathOp.GB_MATH_INC\n",
    "        elif operand == \"--\":\n",
    "            self.operand = GBLocalMathOp.GB_MATH_DEC\n",
    "        elif operand == \"&\":\n",
    "            self.operand = GBLocalMathOp.GB_MATH_BWAND\n",
    "        elif operand == \"|\":\n",
    "            self.operand = GBLocalMathOp.GB_MATH_BWOR\n",
    "        elif operand == \"^\":\n",
    "            self.operand = GBLocalMathOp.GB_MATH_BWXOR\n",
    "        elif operand == \"<<\":\n",
    "            self.operand = GBLocalMathOp.GB_MATH_BWLSH\n",
    "        elif operand == \">>\":\n",
    "            self.operand = GBLocalMathOp.GB_MATH_BWRSH\n",
    "        elif operand == \"-\":\n",
    "            self.operand = GBLocalMathOp.GB_MATH_BWNOT\n",
    "        elif operand == \"==\":\n",
    "            self.operand = GBLocalMathOp.GB_MATH_COND_EQ\n",
    "        elif operand == \"!=\":\n",
    "            self.operand = GBLocalMathOp.GB_MATH_COND_NE\n",
    "        elif operand == \">\":\n",
    "            self.operand = GBLocalMathOp.GB_MATH_COND_GT\n",
    "        elif operand == \"<\":\n",
    "            self.operand = GBLocalMathOp.GB_MATH_COND_LT\n",
    "        elif operand == \">=\":\n",
    "            self.operand = GBLocalMathOp.GB_MATH_COND_GTEQ\n",
    "        elif operand == \"<=\":\n",
    "            self.operand = GBLocalMathOp.GB_MATH_COND_LTEQ\n",
    "\n",
    "    def generate(self):\n",
    "        self.operation.payload([self.dest, self.src1, self.src2, self.operand])\n",
    "        return self.operation.generate()"
   ]
  },
  {
   "cell_type": "code",
   "execution_count": null,
   "id": "9105af3b",
   "metadata": {
    "scrolled": false
   },
   "outputs": [],
   "source": [
    "class GBLocalDelayOp(object):\n",
    "    GB_DELAYOP = 0xB3\n",
    "    def __init__(self, delayus = 0):\n",
    "        self.operation = GBOperation(GBLocalDelayOp.GB_DELAYOP,delayus%256, 0 , delayus//256)\n",
    "    def generate(self):\n",
    "        return self.operation.generate()"
   ]
  },
  {
   "cell_type": "code",
   "execution_count": null,
   "id": "8fbdbf8b",
   "metadata": {
    "scrolled": false
   },
   "outputs": [],
   "source": [
    "class GBGPIOOp(object):\n",
    "    GB_GPIO_TYPE_PROTOCOL_VERSION = 0x1\n",
    "    GB_GPIO_TYPE_DIRECTION_IN = 0x06\n",
    "    GB_GPIO_TYPE_DIRECTION_OUT = 0x07\n",
    "    GB_GPIO_TYPE_GET_VALUE = 0x08\n",
    "    GB_GPIO_TYPE_SET_VALUE = 0x09\n",
    "    \n",
    "    def __init__(self, cport = 1):\n",
    "        self.cport = cport\n",
    "\n",
    "    def get_protocol_version(self):\n",
    "        return GBOperation(GBGPIOOp.GB_GPIO_TYPE_PROTOCOL_VERSION, self.cport, 1).generate()\n",
    "    def direction_in(self, which):\n",
    "        gpiodiroutop = GBOperation(GBGPIOOp.GB_GPIO_TYPE_DIRECTION_IN, self.cport, 1)\n",
    "        gpiodiroutop.payload([which])\n",
    "        return gpiodiroutop.generate()\n",
    "    def direction_out(self, which, value):\n",
    "        gpiodiroutop = GBOperation(GBGPIOOp.GB_GPIO_TYPE_DIRECTION_OUT, self.cport, 1)\n",
    "        gpiodiroutop.payload([which, value])\n",
    "        return gpiodiroutop.generate()\n",
    "    def getvalue(self, which):\n",
    "        gpiogv = GBOperation(GBGPIOOp.GB_GPIO_TYPE_GET_VALUE, self.cport, 1)\n",
    "        gpiogv.payload([which])\n",
    "        return gpiogv.generate()\n",
    "    def setvalue(self, which, value):\n",
    "        gpiosv = GBOperation(GBGPIOOp.GB_GPIO_TYPE_SET_VALUE, self.cport, 1)\n",
    "        gpiosv.payload([which, value])\n",
    "        return gpiosv.generate()\n"
   ]
  },
  {
   "cell_type": "code",
   "execution_count": null,
   "id": "680851b0",
   "metadata": {
    "scrolled": false
   },
   "outputs": [],
   "source": [
    "class GBGPIO(object):\n",
    "    def __init__(self, transport, cport):\n",
    "        self.cport = cport\n",
    "        self.transport = transport\n",
    "    def direction_out(self, which, value):        \n",
    "        self.transport.write(GBGPIOOp().direction_out(which, value), self.cport)\n",
    "        return self.transport.read(8, self.cport)[5]\n",
    "    def direction_in(self, which):\n",
    "        self.transport.write(GBGPIOOp().direction_in(which), self.cport)\n",
    "        return self.transport.read(8, self.cport)[5]\n",
    "    def setvalue(self, which, value):\n",
    "        self.transport.write(GBGPIOOp().setvalue(which, value), self.cport)\n",
    "        return self.transport.read(8, self.cport)[5]\n",
    "    def getvalue(self, which):\n",
    "        self.transport.write(GBGPIOOp().getvalue(which), self.cport)\n",
    "        return self.transport.read(9, self.cport)[8]\n",
    "\n",
    "class GBI2C(object):\n",
    "    def __init__(self, transport, cport):\n",
    "        self.cport = cport\n",
    "        self.transport = transport\n",
    "    def ReadByte(self, address, command):\n",
    "        self.transport.write(GBI2COp(self.cport).readByte(address, command), self.cport)\n",
    "        return self.transport.read(9, self.cport)[8]\n",
    "    def ReadWord(self, address, command):\n",
    "        self.transport.write(GBI2COp(self.cport).readWord(address, command), self.cport)\n",
    "        return int.from_bytes(self.transport.read(10, self.cport)[8:10], 'little')\n",
    "    def ReadBlock(self, address, command, nbytes):\n",
    "        self.transport.write(GBI2COp(self.cport).readBlock(address, command, nbytes), self.cport)\n",
    "        return list(self.transport.read(8 + nbytes, self.cport)[8:])\n",
    "    def WriteCommand(self, address, command):\n",
    "        self.transport.write(GBI2COp(self.cport).writeCommand(address, command), self.cport)\n",
    "        return self.transport.read(8, self.cport)[5]\n",
    "    def WriteByte(self, address, command, wrbyte):\n",
    "        self.transport.write(GBI2COp(self.cport).writeByte(address, command, wrbyte), self.cport)\n",
    "        return self.transport.read(8, self.cport)[5]\n",
    "    def WriteWord(self, address, command, word):\n",
    "        self.transport.write(GBI2COp(self.cport).writeWord(address, command, word), self.cport)\n",
    "        return self.transport.read(8, self.cport)[5]\n",
    "    def WriteBlock(self, address, command, block):\n",
    "        self.transport.write(GBI2COp(self.cport).writeBlock(address, command, block), self.cport)\n",
    "        return self.transport.read(8, self.cport)[5]\n",
    "\n",
    "class GBControl(object):\n",
    "    def __init__(self, transport, cport):\n",
    "        self.cport = cport\n",
    "        self.transport = transport\n",
    "    def get_manifest(self):\n",
    "        get_mnfs_size = GBControlOp(self.cport).get_manifest_size()\n",
    "        self.transport.write(get_mnfs_size, self.cport)\n",
    "        mnfssize = int.from_bytes(self.transport.read(10)[8:9], \"little\")\n",
    "        print(\"manifest is :\" + str(mnfssize), self.cport)\n",
    "        get_manifest = GBControlOp(self.cport).get_manifest()\n",
    "        self.transport.write(get_manifest, self.cport)\n",
    "        return self.transport.read(8 + mnfssize)[8:]\n",
    "    def get_scratch_all(self):\n",
    "        get_global_scratch = GBControlOp(self.cport).get_global_scratch()\n",
    "        self.transport.write(get_global_scratch, self.cport)\n",
    "        scratchbuffer = list(self.transport.read(136, self.cport)[8:])\n",
    "        scratch = []\n",
    "        for i in range(0, len(scratchbuffer), 4):\n",
    "            scratch.append(int.from_bytes(scratchbuffer[i:(i+3)], 'little'))\n",
    "        return scratch\n",
    "    def get_scratch(self, offset=0):\n",
    "        get_global_scratch = GBControlOp(self.cport).get_global_scratch()\n",
    "        self.transport.write(get_global_scratch, self.cport)\n",
    "        scratchbuffer = list(self.transport.read(136, self.cport)[8:])\n",
    "        scratch = []\n",
    "        for i in range(0, len(scratchbuffer), 4):\n",
    "            scratch.append(int.from_bytes(scratchbuffer[i:(i+3)], 'little'))\n",
    "        return scratch[offset]\n",
    "    def scratchwrite(self, offset, value):\n",
    "        lpop = GBLocalPlaybackOp()\n",
    "        scop = GBLocalScratchWriteOp(offset, value)\n",
    "        lpop.addop(scop.generate())\n",
    "        self.transport.write(lpop.generate_lp(), self.cport)\n",
    "    def mathop(self, dest, src1, src2, operator):\n",
    "        lpop = GBLocalPlaybackOp()\n",
    "        mathop = GBLocalMathOp(dest, src1, src2, operator)\n",
    "        lpop.addop(mathop.generate())\n",
    "        self.transport.write(lpop.generate_lp(), self.cport)\n",
    "        \n",
    "\n",
    "class GBModule(object):    \n",
    "    def __init__(self, transport, control = 0, gpio = 1, i2c = 2):\n",
    "        self.Control = GBControl(transport, control)\n",
    "        #TODO parse manifest\n",
    "        self.GPIO = GBGPIO(transport, gpio)\n",
    "        self.I2C = GBI2C(transport, i2c)\n",
    "        self.transport = transport"
   ]
  },
  {
   "cell_type": "code",
   "execution_count": null,
   "id": "a3c6b141",
   "metadata": {
    "scrolled": false
   },
   "outputs": [],
   "source": [
    "class SerialTransport(object):\n",
    "    def __init__(self, port, baud = 115200):\n",
    "        self.transport = serial.Serial(port, baud)\n",
    "    \n",
    "    def read(self, count, cport = 0):\n",
    "        #read header\n",
    "        header = list(self.transport.read(8))\n",
    "        size = int.from_bytes(header[0:1], 'little')\n",
    "        if size > 0:\n",
    "            header = header + list(self.transport.read(size - 8))\n",
    "        if size != count:\n",
    "            print(\"invalid packet received\")\n",
    "            print(size, header)\n",
    "            header = list(self.transport.read(8))\n",
    "            size = int.from_bytes(header[0:1], 'little')\n",
    "            if size > 0:\n",
    "                header = header + list(self.transport.read(size - 8))\n",
    "        return bytes(header)\n",
    "    def write(self, buf, cport = 0):\n",
    "        self.transport.write(buf)"
   ]
  },
  {
   "cell_type": "code",
   "execution_count": null,
   "id": "610beed7",
   "metadata": {
    "scrolled": false
   },
   "outputs": [],
   "source": [
    "class TCPIPV6Transport(object):\n",
    "    def __init__(self, address, control = 4242, gpio = 4243, i2c = 4244):\n",
    "        controlc = socket.socket(socket.AF_INET6, socket.SOCK_STREAM, 0)\n",
    "        gpioc = socket.socket(socket.AF_INET6, socket.SOCK_STREAM, 0)\n",
    "        i2cc = socket.socket(socket.AF_INET6, socket.SOCK_STREAM, 0)\n",
    "        self.transport = [controlc, gpioc, i2cc]\n",
    "        controlc.connect((address, control, 0, 0))\n",
    "        gpioc.connect((address, gpio, 0, 0))\n",
    "        i2cc.connect((address, i2c, 0, 0))\n",
    "\n",
    "    def read(self, count, cport = 0):\n",
    "        #read header\n",
    "        header = list(self.transport[cport].recv(8))\n",
    "        size = int.from_bytes(header[0:1], 'little')\n",
    "        if size > 0:\n",
    "            header = header + list(self.transport[cport].recv(size - 8))\n",
    "        if size != count:\n",
    "            print(\"invalid packet received\")\n",
    "            print(size, header)\n",
    "            header = list(self.transport[cport].recv(8))\n",
    "            size = int.from_bytes(header[0:1], 'little')\n",
    "            if size > 0:\n",
    "                header = header + list(self.transport[cport].recv(size - 8))\n",
    "        return bytes(header)\n",
    "    def write(self, buf, cport = 0):\n",
    "        self.transport[cport].sendall(buf)"
   ]
  },
  {
   "cell_type": "code",
   "execution_count": null,
   "id": "13128ccf",
   "metadata": {
    "scrolled": false
   },
   "outputs": [],
   "source": [
    "ipv6transport = TCPIPV6Transport(\"2001:db8::1\")\n",
    "beagleconnect = GBModule(ipv6transport)\n",
    "bcfcontrol = beagleconnect.Control\n",
    "bcfgpio = beagleconnect.GPIO\n",
    "bcfi2c = beagleconnect.I2C"
   ]
  },
  {
   "cell_type": "code",
   "execution_count": null,
   "id": "0772d697",
   "metadata": {
    "scrolled": false
   },
   "outputs": [],
   "source": [
    "print(bcfcontrol.get_manifest())\n",
    "# print(bcfcontrol.get_scratch())\n",
    "# print(bcfi2c.ReadByte(0x68, 0))\n",
    "# print(bcfi2c.ReadWord(0x68, 0))\n",
    "# print(bcfi2c.ReadBlock(0x68, 0, 12))\n",
    "# print(bcfi2c.WriteCommand(0x68, 0))\n",
    "# print(bcfi2c.WriteByte(0x68, 0x40, 0x44))\n",
    "# print(bcfi2c.WriteWord(0x68, 0x40, 0x44))\n",
    "# print(bcfi2c.WriteBlock(0x68, 0x40, [0x41, 0x42, 0x43, 0x44]))\n",
    "# print(bcfgpio.direction_out(0,1))\n",
    "# print(bcfgpio.direction_in(0))\n",
    "# print(bcfgpio.setvalue(0,1))\n",
    "# print(bcfgpio.getvalue(0))"
   ]
  },
  {
   "cell_type": "code",
   "execution_count": null,
   "id": "7d639c81",
   "metadata": {
    "scrolled": false
   },
   "outputs": [],
   "source": [
    "print(bcfcontrol.get_scratch(0))\n",
    "bcfcontrol.scratchwrite(0, 5)\n",
    "print(bcfcontrol.get_scratch(0))"
   ]
  },
  {
   "cell_type": "code",
   "execution_count": null,
   "id": "b05e3a8e",
   "metadata": {
    "scrolled": false
   },
   "outputs": [],
   "source": [
    "lpop = GBLocalPlaybackOp()\n",
    "get_mnfs_version = GBControlOp().get_protocol_version()\n",
    "get_manifest = GBControlOp().get_manifest()\n",
    "lpop.addop(get_mnfs_version)\n",
    "lpop.addop(get_manifest)\n",
    "mylpop = lpop.generate_lp()\n",
    "print(\"\".join(\"0x%02x \" % b for b in mylpop))\n",
    "beagleconnect.transport.write(mylpop)"
   ]
  },
  {
   "cell_type": "code",
   "execution_count": null,
   "id": "069f8a34",
   "metadata": {
    "scrolled": false
   },
   "outputs": [],
   "source": [
    "lpop = GBLocalPlaybackOp()\n",
    "delayop = GBLocalDelayOp(2000)\n",
    "lpop.addop(delayop.generate())\n",
    "beagleconnect.transport.write(lpop.generate_lp())"
   ]
  },
  {
   "cell_type": "code",
   "execution_count": null,
   "id": "6d9bda2a",
   "metadata": {
    "scrolled": false
   },
   "outputs": [],
   "source": [
    "#scratchwritepayload from another operation\n",
    "lpop = GBLocalPlaybackOp()\n",
    "scop = GBLocalScratchWriteOp(2, 0) #offset, #value\n",
    "scop.addop(GBI2COp(2).readByte(0x68, 0))\n",
    "lpop.addop(scop.generate())\n",
    "beagleconnect.transport.write(lpop.generate_lp())"
   ]
  },
  {
   "cell_type": "code",
   "execution_count": null,
   "id": "3ff04360",
   "metadata": {
    "scrolled": false
   },
   "outputs": [],
   "source": [
    "#scratchwrite constant\n",
    "lpop = GBLocalPlaybackOp()\n",
    "scop = GBLocalScratchWriteOp(0, 2) #offset, #value\n",
    "lpop.addop(scop.generate())\n",
    "beagleconnect.transport.write(lpop.generate_lp())\n",
    "\n",
    "lpop = GBLocalPlaybackOp()\n",
    "scop = GBLocalScratchWriteOp(1, 3) #offset, #value\n",
    "lpop.addop(scop.generate())\n",
    "beagleconnect.transport.write(lpop.generate_lp())"
   ]
  },
  {
   "cell_type": "code",
   "execution_count": null,
   "id": "3801a7fe",
   "metadata": {
    "scrolled": false
   },
   "outputs": [],
   "source": [
    "bcfcontrol.scratchwrite(5, 1)\n",
    "ifop = GBLocalIFOp(5)\n",
    "ifop.addop(GBControlOp().get_manifest())\n",
    "ifop.addop(GBLocalMathOp(5, 0, 0, \"--\").generate())\n",
    "# beagleconnect.transport.write(ifop.generate_lp())\n",
    "\n",
    "lpop = GBLocalPlaybackOp()\n",
    "mathop = GBLocalMathOp(0, 0, 0, \"+\")\n",
    "lpop.addop(mathop.generate())\n",
    "lpop.addop(ifop.generate_lp())\n",
    "beagleconnect.transport.write(lpop.generate_lp())"
   ]
  },
  {
   "cell_type": "code",
   "execution_count": null,
   "id": "2a4bbc27",
   "metadata": {
    "scrolled": false
   },
   "outputs": [],
   "source": [
    "# # start infinite playback\n",
    "lpop = GBLocalPlaybackOp(0xAA)\n",
    "mathop = GBLocalMathOp(0, 0, 0, \"++\")\n",
    "lpop.addop(mathop.generate())\n",
    "beagleconnect.transport.write(lpop.generate_lp())"
   ]
  },
  {
   "cell_type": "code",
   "execution_count": null,
   "id": "5b551952",
   "metadata": {
    "scrolled": false
   },
   "outputs": [],
   "source": [
    "# # start infinite playback\n",
    "lpop = GBLocalPlaybackOp(0xAA)\n",
    "mathop = GBLocalMathOp(1, 0, 0, \"++\")\n",
    "lpop.addop(mathop.generate())\n",
    "\n",
    "ifop = GBLocalIFOp(5)\n",
    "ifop.addop(GBControlOp().get_manifest())\n",
    "ifop.addop(GBLocalMathOp(5, 0, 0, \"--\").generate())\n",
    "lpop.addop(ifop.generate_lp())\n",
    "beagleconnect.transport.write(lpop.generate_lp())"
   ]
  },
  {
   "cell_type": "code",
   "execution_count": null,
   "id": "c9f53974",
   "metadata": {
    "scrolled": false
   },
   "outputs": [],
   "source": [
    "# # stop infinite playback\n",
    "lpop = GBLocalPlaybackOp(0xA1)\n",
    "mathop = GBLocalMathOp(0, 0, 0, \"+\")\n",
    "lpop.addop(mathop.generate())\n",
    "beagleconnect.transport.write(lpop.generate_lp())"
   ]
  },
  {
   "cell_type": "code",
   "execution_count": null,
   "id": "4511fead",
   "metadata": {
    "scrolled": false
   },
   "outputs": [],
   "source": [
    "#ifop\n",
    "bcfcontrol.scratchwrite(5, 1)\n",
    "ifop = GBLocalIFOp(5)\n",
    "ifop.addop(GBControlOp().get_manifest())\n",
    "ifop.addop(GBLocalMathOp(5, 0, 0, \"--\").generate())\n",
    "beagleconnect.transport.write(ifop.generate_lp())"
   ]
  },
  {
   "cell_type": "code",
   "execution_count": null,
   "id": "2ac3eacd",
   "metadata": {},
   "outputs": [],
   "source": [
    "#scratchwritepayload from another operation\n",
    "lpop = GBLocalPlaybackOp()\n",
    "scop = GBLocalScratchWriteOp(2, 0) #offset, #value\n",
    "scop.addop(GBI2COp(2).readByte(0x68, 0))\n",
    "lpop.addop(scop.generate())\n",
    "beagleconnect.transport.write(lpop.generate_lp())"
   ]
  },
  {
   "cell_type": "code",
   "execution_count": null,
   "id": "ffe64d82",
   "metadata": {
    "scrolled": false
   },
   "outputs": [],
   "source": [
    "#whileop\n",
    "bcfcontrol.scratchwrite(5, 5)\n",
    "whileop = GBLocalWhileOp(5)\n",
    "whileop.addop(GBControlOp().get_manifest())\n",
    "whileop.addop(GBLocalMathOp(5, 0, 0, \"--\").generate())\n",
    "beagleconnect.transport.write(whileop.generate_lp())"
   ]
  },
  {
   "cell_type": "code",
   "execution_count": null,
   "id": "99e4a2a8",
   "metadata": {
    "scrolled": false
   },
   "outputs": [],
   "source": [
    "print(GBLocalMathOp(5, 0, 0, \"--\").generate())"
   ]
  },
  {
   "cell_type": "code",
   "execution_count": null,
   "id": "3844fa7c",
   "metadata": {
    "scrolled": false
   },
   "outputs": [],
   "source": [
    "print(bcfgpio.direction_out(18,1))\n",
    "# print(bcfgpio.direction_in(0))\n",
    "\n",
    "# print(bcfgpio.getvalue(0))"
   ]
  },
  {
   "cell_type": "code",
   "execution_count": null,
   "id": "55c1689b",
   "metadata": {
    "scrolled": false
   },
   "outputs": [],
   "source": [
    "print(bcfgpio.setvalue(18,1))"
   ]
  },
  {
   "cell_type": "code",
   "execution_count": null,
   "id": "5b260fd6",
   "metadata": {
    "scrolled": false
   },
   "outputs": [],
   "source": [
    "import datetime\n",
    "print(datetime.datetime.now())\n",
    "for i in range(100):\n",
    "         bcfgpio.setvalue(18, 0)\n",
    "         bcfgpio.setvalue(18, 1)\n",
    "print(datetime.datetime.now())"
   ]
  },
  {
   "cell_type": "code",
   "execution_count": null,
   "id": "fc613dad",
   "metadata": {
    "scrolled": false
   },
   "outputs": [],
   "source": [
    "class OPT3001(object):\n",
    "    def __init__(self, bus, address):\n",
    "        self.bus = bus\n",
    "        self.address = address\n",
    "        print(\"mfrid = \" + str(hex(bus.ReadWord(address, 0x7E))))\n",
    "        print(\"device ID = \" + str(hex(bus.ReadWord(address, 0x7F))))\n",
    "        cfgread = self.read_register_16bit(1)\n",
    "        cfgset = cfgread | (3 << 9)\n",
    "        self.write_config_reg(cfgset)\n",
    "\n",
    "    def read_register_16bit(self, adr):\n",
    "        values = self.bus.ReadBlock(self.address, adr, 2)\n",
    "        data = (values[0] << 8) | values[1]\n",
    "        return data\n",
    "\n",
    "    def write_register_16bit(self, adr, data):\n",
    "        d1 = (data >> 8)\n",
    "        d0 = data & 0xFF\n",
    "        return self.bus.WriteBlock(self.address, adr, [d1, d0])\n",
    "\n",
    "    def write_config_reg(self, data):\n",
    "        return self.write_register_16bit(1, data)\n",
    "\n",
    "    def read_lux_float(self):\n",
    "        req_value = self.read_register_16bit(0)\n",
    "        mantisse = req_value & 0x0fff\n",
    "        exponent = (req_value & 0xf000) >> 12\n",
    "        return 2**exponent * mantisse * 0.01"
   ]
  },
  {
   "cell_type": "code",
   "execution_count": null,
   "id": "8027931b",
   "metadata": {
    "scrolled": false
   },
   "outputs": [],
   "source": [
    "class HDC2010(object):\n",
    "    def __init__(self, bus, address, auto= 0):\n",
    "        self.bus = bus\n",
    "        self.address = address\n",
    "        print(\"mfrid = \" + str(hex(bus.ReadWord(address, 0xFC))))\n",
    "        print(\"device ID = \" + str(hex(bus.ReadWord(address, 0xFE))))\n",
    "        bus.WriteByte(address, 0x0E, 0x80)\n",
    "        sleep(0.001)\n",
    "    \n",
    "    def readSensor(self):\n",
    "        self.bus.WriteBlock(self.address, 0x0F, [0x01])\n",
    "        sleep(0.005)\n",
    "        val = self.bus.ReadBlock(self.address, 0x00, 4)\n",
    "        print(val)\n",
    "        temp = val[1]*256 + val[0]\n",
    "        temperature = (float(temp) * 165)/65536.0 - 40\n",
    "        hum = val[3]*256 + val[2]\n",
    "        relhum = (float(hum) * 100)/65536.0\n",
    "        print(temperature, relhum)\n",
    "        return (temperature, relhum)"
   ]
  },
  {
   "cell_type": "code",
   "execution_count": null,
   "id": "40fbb1ce",
   "metadata": {
    "scrolled": false
   },
   "outputs": [],
   "source": [
    "temphum = HDC2010(bcfi2c, 0x41)"
   ]
  },
  {
   "cell_type": "code",
   "execution_count": null,
   "id": "a7713384",
   "metadata": {
    "scrolled": false
   },
   "outputs": [],
   "source": [
    "print(temphum.readSensor())"
   ]
  },
  {
   "cell_type": "code",
   "execution_count": null,
   "id": "89f91ed8",
   "metadata": {
    "scrolled": false
   },
   "outputs": [],
   "source": [
    "light = OPT3001(bcfi2c, 0x44)"
   ]
  },
  {
   "cell_type": "code",
   "execution_count": null,
   "id": "7be774d6",
   "metadata": {
    "scrolled": false
   },
   "outputs": [],
   "source": [
    "print(light.read_lux_float())"
   ]
  },
  {
   "cell_type": "code",
   "execution_count": null,
   "id": "6cfaea82",
   "metadata": {},
   "outputs": [],
   "source": [
    "#scratchwritepayload from another operation\n",
    "lpop = GBLocalPlaybackOp(0xAA)\n",
    "scop = GBLocalScratchWriteOp(0, 0) #offset, #value\n",
    "scop.addop(GBGPIOOp().getvalue(5))\n",
    "lpop.addop(scop.generate())\n",
    "scop = GBLocalScratchWriteOp(1, 0) #offset, #value\n",
    "scop.addop(GBGPIOOp().getvalue(27))\n",
    "lpop.addop(scop.generate())\n",
    "scop = GBLocalScratchWriteOp(2, 0) #offset, #value\n",
    "scop.addop(GBGPIOOp().getvalue(10))\n",
    "lpop.addop(scop.generate()) \n",
    "scop = GBLocalScratchWriteOp(3, 0) #offset, #value\n",
    "scop.addop(GBGPIOOp().getvalue(11))\n",
    "lpop.addop(scop.generate())\n",
    "scop = GBLocalScratchWriteOp(4, 0)\n",
    "lpop.addop(scop.generate())\n",
    "scop = GBLocalScratchWriteOp(5, 1)\n",
    "lpop.addop(scop.generate())\n",
    "lpop.addop(GBLocalMathOp(4, 4, 0, \"+\").generate())\n",
    "lpop.addop(GBLocalMathOp(4, 4, 5, \"<<\").generate())\n",
    "lpop.addop(GBLocalMathOp(4, 4, 1, \"+\").generate())\n",
    "lpop.addop(GBLocalMathOp(4, 4, 5, \"<<\").generate())\n",
    "lpop.addop(GBLocalMathOp(4, 4, 2, \"+\").generate())\n",
    "lpop.addop(GBLocalMathOp(4, 4, 5, \"<<\").generate())\n",
    "lpop.addop(GBLocalMathOp(4, 4, 3, \"+\").generate())\n",
    "scop = GBLocalScratchWriteOp(5, 1)\n",
    "lpop.addop(scop.generate())\n",
    "scop = GBLocalScratchWriteOp(6, 3)\n",
    "lpop.addop(scop.generate())\n",
    "scop = GBLocalScratchWriteOp(7, 2)\n",
    "lpop.addop(scop.generate())\n",
    "scop = GBLocalScratchWriteOp(8, 6)\n",
    "lpop.addop(scop.generate())\n",
    "scop = GBLocalScratchWriteOp(9, 4)\n",
    "lpop.addop(scop.generate())\n",
    "scop = GBLocalScratchWriteOp(10, 12)\n",
    "lpop.addop(scop.generate())\n",
    "scop = GBLocalScratchWriteOp(11, 8)\n",
    "lpop.addop(scop.generate())\n",
    "beagleconnect.transport.write(lpop.generate_lp())"
   ]
  },
  {
   "cell_type": "code",
   "execution_count": null,
   "id": "2118c613",
   "metadata": {},
   "outputs": [],
   "source": [
    "# # stop infinite playback\n",
    "lpop = GBLocalPlaybackOp(0xA1)\n",
    "mathop = GBLocalMathOp(0, 0, 0, \"+\")\n",
    "lpop.addop(mathop.generate())\n",
    "beagleconnect.transport.write(lpop.generate_lp())\n",
    "print(bcfgpio.direction_out(19,1))\n",
    "print(bcfgpio.direction_out(20,1))\n",
    "print(bcfgpio.direction_out(21,1))\n",
    "print(bcfgpio.direction_out(22,1))"
   ]
  },
  {
   "cell_type": "code",
   "execution_count": null,
   "id": "4c41d8a7",
   "metadata": {
    "scrolled": false
   },
   "outputs": [],
   "source": [
    "# Registers/etc:\n",
    "PCA9685_ADDRESS    = 0x40\n",
    "MODE1              = 0x00\n",
    "MODE2              = 0x01\n",
    "SUBADR1            = 0x02\n",
    "SUBADR2            = 0x03\n",
    "SUBADR3            = 0x04\n",
    "PRESCALE           = 0xFE\n",
    "LED0_ON_L          = 0x06\n",
    "LED0_ON_H          = 0x07\n",
    "LED0_OFF_L         = 0x08\n",
    "LED0_OFF_H         = 0x09\n",
    "ALL_LED_ON_L       = 0xFA\n",
    "ALL_LED_ON_H       = 0xFB\n",
    "ALL_LED_OFF_L      = 0xFC\n",
    "ALL_LED_OFF_H      = 0xFD\n",
    "\n",
    "# Bits:\n",
    "RESTART            = 0x80\n",
    "SLEEP              = 0x10\n",
    "ALLCALL            = 0x01\n",
    "INVRT              = 0x10\n",
    "OUTDRV             = 0x04\n",
    "import math\n",
    "class PCA9685(object):\n",
    "    \"\"\"PCA9685 PWM LED/servo controller.\"\"\"\n",
    "\n",
    "    def __init__(self,i2c=None, address=PCA9685_ADDRESS):\n",
    "        self.i2c = i2c\n",
    "        self.address = address\n",
    "        mode1 = i2c.ReadByte(self.address, MODE1)\n",
    "        print(mode1)\n",
    "        i2c.WriteByte(self.address, MODE1, 0)\n",
    "        sleep(0.005)\n",
    "\n",
    "    def set_pwm_freq(self, freq_hz):\n",
    "        prescaleval = 25000000.0    # 25MHz\n",
    "        prescaleval /= 4096.0       # 12-bit\n",
    "        prescaleval /= float(freq_hz)\n",
    "        prescaleval -= 1.0\n",
    "        prescale = int(math.floor(prescaleval + 0.5))\n",
    "        oldmode = self.i2c.ReadByte(self.address, MODE1);\n",
    "        newmode = (oldmode & 0x7F) | 0x10    # sleep\n",
    "        self.i2c.WriteByte(self.address, MODE1, newmode)  # go to sleep\n",
    "        self.i2c.WriteByte(self.address, PRESCALE, prescale)\n",
    "        self.i2c.WriteByte(self.address, MODE1, oldmode)\n",
    "        sleep(0.005)\n",
    "        self.i2c.WriteByte(self.address, MODE1, oldmode | 0xA0)\n",
    "\n",
    "    def set_pwm(self, channel, on, off):\n",
    "        self.i2c.WriteByte(self.address, LED0_ON_L+4*channel, on & 0xFF)\n",
    "        self.i2c.WriteByte(self.address, LED0_ON_H+4*channel, on >> 8)\n",
    "        self.i2c.WriteByte(self.address, LED0_OFF_L+4*channel, off & 0xFF)\n",
    "        self.i2c.WriteByte(self.address, LED0_OFF_H+4*channel, off >> 8)\n",
    "    \n",
    "    def map_range(self, x, in_min, in_max, out_min, out_max):\n",
    "        return (x - in_min) * (out_max - out_min) // (in_max - in_min) + out_min\n",
    "\n",
    "    def set_duty(self, channel, duty):\n",
    "        if (duty == 100):\n",
    "            self.set_pwm(channel, 0x1000, 0)\n",
    "        elif (duty == 0):\n",
    "            self.set_pwm(channel, 0, 0x1000)\n",
    "        else:\n",
    "            duty = self.map_range(duty, 0, 100, 0xa00, 0xFFE)\n",
    "#             print(\"setting \" + str((duty)))\n",
    "            self.set_pwm(channel, 0, duty)\n",
    "        \n",
    "        \n",
    "    def set_all_pwm(self, on, off):\n",
    "        self.i2c.WriteByte(self.address, ALL_LED_ON_L, on & 0xFF)\n",
    "        self.i2c.WriteByte(self.address, ALL_LED_ON_H, on >> 8)\n",
    "        self.i2c.WriteByte(self.address, ALL_LED_OFF_L, off & 0xFF)\n",
    "        self.i2c.WriteByte(self.address, ALL_LED_OFF_H, off >> 8)"
   ]
  },
  {
   "cell_type": "code",
   "execution_count": null,
   "id": "06f0bed4",
   "metadata": {
    "scrolled": false
   },
   "outputs": [],
   "source": [
    "pwm = PCA9685(bcfi2c, 0x40)"
   ]
  },
  {
   "cell_type": "code",
   "execution_count": null,
   "id": "f1c72d25",
   "metadata": {
    "scrolled": false
   },
   "outputs": [],
   "source": [
    "# pwm.set_all_pwm(0x0, 0xb00)"
   ]
  },
  {
   "cell_type": "code",
   "execution_count": null,
   "id": "147dd370",
   "metadata": {
    "scrolled": false
   },
   "outputs": [],
   "source": [
    "pwm.set_pwm_freq(10000)"
   ]
  },
  {
   "cell_type": "code",
   "execution_count": null,
   "id": "4947c114",
   "metadata": {
    "scrolled": false
   },
   "outputs": [],
   "source": [
    "pwm.set_all_pwm(0, 0)"
   ]
  },
  {
   "cell_type": "code",
   "execution_count": null,
   "id": "44aada37",
   "metadata": {},
   "outputs": [],
   "source": [
    "# setup gpio as input\n",
    "print(bcfgpio.direction_in(5))\n",
    "print(bcfgpio.direction_in(27))\n",
    "print(bcfgpio.direction_in(10))\n",
    "print(bcfgpio.direction_in(11))\n",
    "# motor control\n",
    "print(bcfgpio.direction_out(19,1))\n",
    "print(bcfgpio.direction_out(20,1))\n",
    "print(bcfgpio.direction_out(21,1))\n",
    "print(bcfgpio.direction_out(22,1))\n",
    "pwm.set_duty(0, 10)\n",
    "pwm.set_duty(1, 10)\n",
    "print(bcfgpio.setvalue(19,1))\n",
    "print(bcfgpio.setvalue(20,0))\n",
    "print(bcfgpio.setvalue(21,1))\n",
    "print(bcfgpio.setvalue(22,0))"
   ]
  },
  {
   "cell_type": "code",
   "execution_count": null,
   "id": "f95a962b",
   "metadata": {},
   "outputs": [],
   "source": [
    "# reverse motor\n",
    "print(bcfgpio.setvalue(19,0))\n",
    "print(bcfgpio.setvalue(20,1))\n",
    "print(bcfgpio.setvalue(21,0))\n",
    "print(bcfgpio.setvalue(22,1))"
   ]
  },
  {
   "cell_type": "code",
   "execution_count": null,
   "id": "d333ee04",
   "metadata": {},
   "outputs": [],
   "source": [
    "#scratchwritepayload from another operation\n",
    "lpop = GBLocalPlaybackOp(0xAA)\n",
    "scop = GBLocalScratchWriteOp(0, 0) #offset, #value\n",
    "scop.addop(GBGPIOOp().getvalue(5))\n",
    "lpop.addop(scop.generate())\n",
    "scop = GBLocalScratchWriteOp(1, 0) #offset, #value\n",
    "scop.addop(GBGPIOOp().getvalue(27))\n",
    "lpop.addop(scop.generate())\n",
    "scop = GBLocalScratchWriteOp(2, 0) #offset, #value\n",
    "scop.addop(GBGPIOOp().getvalue(10))\n",
    "lpop.addop(scop.generate()) \n",
    "scop = GBLocalScratchWriteOp(3, 0) #offset, #value\n",
    "scop.addop(GBGPIOOp().getvalue(11))\n",
    "lpop.addop(scop.generate())\n",
    "scop = GBLocalScratchWriteOp(4, 0)\n",
    "lpop.addop(scop.generate())\n",
    "scop = GBLocalScratchWriteOp(5, 1)\n",
    "lpop.addop(scop.generate())\n",
    "lpop.addop(GBLocalMathOp(4, 4, 0, \"+\").generate())\n",
    "lpop.addop(GBLocalMathOp(4, 4, 5, \"<<\").generate())\n",
    "lpop.addop(GBLocalMathOp(4, 4, 1, \"+\").generate())\n",
    "lpop.addop(GBLocalMathOp(4, 4, 5, \"<<\").generate())\n",
    "lpop.addop(GBLocalMathOp(4, 4, 2, \"+\").generate())\n",
    "lpop.addop(GBLocalMathOp(4, 4, 5, \"<<\").generate())\n",
    "lpop.addop(GBLocalMathOp(4, 4, 3, \"+\").generate())\n",
    "scop = GBLocalScratchWriteOp(5, 1)\n",
    "lpop.addop(scop.generate())\n",
    "scop = GBLocalScratchWriteOp(6, 3)\n",
    "lpop.addop(scop.generate())\n",
    "scop = GBLocalScratchWriteOp(7, 2)\n",
    "lpop.addop(scop.generate())\n",
    "scop = GBLocalScratchWriteOp(8, 6)\n",
    "lpop.addop(scop.generate())\n",
    "scop = GBLocalScratchWriteOp(9, 4)\n",
    "lpop.addop(scop.generate())\n",
    "scop = GBLocalScratchWriteOp(10, 12)\n",
    "lpop.addop(scop.generate())\n",
    "scop = GBLocalScratchWriteOp(11, 8)\n",
    "lpop.addop(scop.generate())\n",
    "lpop.addop(GBLocalMathOp(12, 4, 5, \"==\").generate())\n",
    "lpop.addop(GBLocalMathOp(13, 4, 6, \"==\").generate())\n",
    "lpop.addop(GBLocalMathOp(14, 4, 7, \"==\").generate())\n",
    "lpop.addop(GBLocalMathOp(15, 4, 8, \"==\").generate())\n",
    "lpop.addop(GBLocalMathOp(16, 4, 9, \"==\").generate())\n",
    "lpop.addop(GBLocalMathOp(17, 4, 10, \"==\").generate())\n",
    "lpop.addop(GBLocalMathOp(18, 4, 11, \"==\").generate())\n",
    "scop = GBLocalScratchWriteOp(19, 1)\n",
    "lpop.addop(scop.generate())\n",
    "scop = GBLocalScratchWriteOp(20, 2)\n",
    "lpop.addop(scop.generate())\n",
    "scop = GBLocalScratchWriteOp(21, 3)\n",
    "lpop.addop(scop.generate())\n",
    "scop = GBLocalScratchWriteOp(22, 4)\n",
    "lpop.addop(scop.generate())\n",
    "scop = GBLocalScratchWriteOp(23, 5)\n",
    "lpop.addop(scop.generate())\n",
    "scop = GBLocalScratchWriteOp(24, 0)\n",
    "lpop.addop(scop.generate())\n",
    "lpop.addop(GBLocalMathOp(24, 12, 19, \"*\").generate())\n",
    "lpop.addop(GBLocalMathOp(25, 13, 20, \"*\").generate())\n",
    "lpop.addop(GBLocalMathOp(24, 24, 25, \"+\").generate())\n",
    "lpop.addop(GBLocalMathOp(25, 14, 21, \"*\").generate())\n",
    "lpop.addop(GBLocalMathOp(24, 24, 25, \"+\").generate())\n",
    "lpop.addop(GBLocalMathOp(25, 15, 21, \"*\").generate())\n",
    "lpop.addop(GBLocalMathOp(24, 24, 25, \"+\").generate())\n",
    "lpop.addop(GBLocalMathOp(25, 16, 21, \"*\").generate())\n",
    "lpop.addop(GBLocalMathOp(24, 24, 25, \"+\").generate())\n",
    "lpop.addop(GBLocalMathOp(25, 17, 22, \"*\").generate())\n",
    "lpop.addop(GBLocalMathOp(24, 24, 25, \"+\").generate())\n",
    "lpop.addop(GBLocalMathOp(25, 18, 23, \"*\").generate())\n",
    "lpop.addop(GBLocalMathOp(24, 24, 25, \"+\").generate())\n",
    "scop = GBLocalScratchWriteOp(26, 0)\n",
    "lpop.addop(scop.generate())\n",
    "scop = GBLocalScratchWriteOp(27, 0)\n",
    "lpop.addop(scop.generate())\n",
    "scop = GBLocalScratchWriteOp(28, 2)\n",
    "lpop.addop(scop.generate())\n",
    "scop = GBLocalScratchWriteOp(29, 4)\n",
    "lpop.addop(scop.generate())\n",
    "scop = GBLocalScratchWriteOp(30, 0)\n",
    "lpop.addop(scop.generate())\n",
    "lpop.addop(GBLocalMathOp(26, 24, 28, \"==\").generate())\n",
    "lpop.addop(GBLocalMathOp(27, 24, 29, \"==\").generate())\n",
    "# lpop.addop(GBLocalDelayOp(1000).generate())\n",
    "\n",
    "ifop = GBLocalIFOp(26) \n",
    "ifop.addop(GBGPIOOp().setvalue(19, 0))\n",
    "ifop.addop(GBGPIOOp().setvalue(20, 0))\n",
    "ifop.addop(GBGPIOOp().setvalue(21, 1))\n",
    "ifop.addop(GBGPIOOp().setvalue(22, 0))\n",
    "lpop.addop(ifop.generate_lp())\n",
    "ifop = GBLocalIFOp(27) \n",
    "ifop.addop(GBGPIOOp().setvalue(19, 1))\n",
    "ifop.addop(GBGPIOOp().setvalue(20, 0))\n",
    "ifop.addop(GBGPIOOp().setvalue(21, 0))\n",
    "ifop.addop(GBGPIOOp().setvalue(22, 0))\n",
    "# beagleconnect.transport.write(ifop.generate_lp())\n",
    "# beagleconnect.transport.write(ifop.generate_lp())\n",
    "lpop.addop(ifop.generate_lp())\n",
    "# print(len(lpop.generate_lp()))\n",
    "beagleconnect.transport.write(lpop.generate_lp())\n"
   ]
  },
  {
   "cell_type": "code",
   "execution_count": null,
   "id": "424c5ec5",
   "metadata": {},
   "outputs": [],
   "source": [
    "print(bcfcontrol.get_scratch(26))\n",
    "print(bcfcontrol.get_scratch(27))"
   ]
  },
  {
   "cell_type": "code",
   "execution_count": null,
   "id": "010a6a91",
   "metadata": {},
   "outputs": [],
   "source": [
    "# # stop infinite playback\n",
    "lpop = GBLocalPlaybackOp(0xA1)\n",
    "mathop = GBLocalMathOp(0, 0, 0, \"+\")\n",
    "lpop.addop(mathop.generate())\n",
    "beagleconnect.transport.write(lpop.generate_lp())\n",
    "print(bcfgpio.direction_out(19,1))\n",
    "print(bcfgpio.direction_out(20,1))\n",
    "print(bcfgpio.direction_out(21,1))\n",
    "print(bcfgpio.direction_out(22,1))"
   ]
  },
  {
   "cell_type": "code",
   "execution_count": null,
   "id": "354dc85e",
   "metadata": {},
   "outputs": [],
   "source": [
    "def update_speed(speed):\n",
    "    # setup gpio as input\n",
    "    print(bcfgpio.direction_in(5))\n",
    "    print(bcfgpio.direction_in(27))\n",
    "    print(bcfgpio.direction_in(10))\n",
    "    print(bcfgpio.direction_in(11))\n",
    "    # motor control\n",
    "    print(bcfgpio.direction_out(19,1))\n",
    "    print(bcfgpio.direction_out(20,1))\n",
    "    print(bcfgpio.direction_out(21,1))\n",
    "    print(bcfgpio.direction_out(22,1))\n",
    "    pwm.set_duty(0, speed)\n",
    "    pwm.set_duty(1, speed)\n",
    "    print(bcfgpio.setvalue(19,1))\n",
    "    print(bcfgpio.setvalue(20,0))\n",
    "    print(bcfgpio.setvalue(21,1))\n",
    "    print(bcfgpio.setvalue(22,0))"
   ]
  },
  {
   "cell_type": "code",
   "execution_count": null,
   "id": "3b3cea92",
   "metadata": {},
   "outputs": [],
   "source": [
    "update_speed(100)"
   ]
  },
  {
   "cell_type": "code",
   "execution_count": null,
   "id": "42a6ab20",
   "metadata": {},
   "outputs": [],
   "source": []
  }
 ],
 "metadata": {
  "kernelspec": {
   "display_name": "Python 3",
   "language": "python",
   "name": "python3"
  },
  "language_info": {
   "codemirror_mode": {
    "name": "ipython",
    "version": 3
   },
   "file_extension": ".py",
   "mimetype": "text/x-python",
   "name": "python",
   "nbconvert_exporter": "python",
   "pygments_lexer": "ipython3",
   "version": "3.6.9"
  }
 },
 "nbformat": 4,
 "nbformat_minor": 5
}
